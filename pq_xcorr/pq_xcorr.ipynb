{
 "cells": [
  {
   "cell_type": "markdown",
   "metadata": {},
   "source": [
    "# Inferring X4 in GR4J without using the model"
   ]
  },
  {
   "cell_type": "markdown",
   "metadata": {},
   "source": [
    "## Introduction\n",
    "In this notebook I will show that it is not necessary to run the [GR4J](http://dx.doi.org/10.1016/S0022-1694%2803%2900225-7) hydrological model in order to infer its X4 parameter, as it is usually done when performing brute-force calibration. Instead, the lag between rainfall events and the resulting streamflow peaks is statistically computed and used as a proxy for the value of X4. If calibration is used to infer the other parameters of the model, this approach allows to remove one dimension in the parameter space and consequently to save some CPU. Also, by fixing a parameter (hopefully) to its true value, it decreases the ability of the model to compensate errors with other parameters, thus reducing the chances of equifinality and increasing the robustness of the model."
   ]
  },
  {
   "cell_type": "markdown",
   "metadata": {},
   "source": [
    "## Material\n",
    "This notebook is available on [GitHub](https://github.com/davidbrochart/ipynb/blob/master/pq_xcorr/pq_xcorr.ipynb). It runs on Python3 with a number of libraries that can be installed through the [conda](https://www.continuum.io/downloads) package manager.\n",
    "I will use time series of precipitation (P), potential evapotranspiration (E) and discharge (Q), which cover the 1948-1988 time range at a daily time step."
   ]
  },
  {
   "cell_type": "code",
   "execution_count": null,
   "metadata": {
    "collapsed": false
   },
   "outputs": [],
   "source": [
    "import random\n",
    "from tqdm import tqdm\n",
    "import numpy as np\n",
    "from numba import jit\n",
    "from scipy.interpolate import interp1d\n",
    "from scipy.optimize import fmin\n",
    "import pandas as pd\n",
    "from pandas import DataFrame\n",
    "from matplotlib import pyplot as plt\n",
    "from IPython.display import Image\n",
    "\n",
    "%matplotlib inline"
   ]
  },
  {
   "cell_type": "code",
   "execution_count": null,
   "metadata": {
    "collapsed": false
   },
   "outputs": [],
   "source": [
    "def plot_peq(peq):\n",
    "    fig, ax1 = plt.subplots(figsize=(15, 5))\n",
    "\n",
    "    ax1.set_ylim([peq.p.max() * 2, 0])\n",
    "    ax1.plot(peq.p, color='b', alpha=0.5, label='Rainfall')\n",
    "    ax1.set_ylabel('Rainfall (mm/day)', color='b')\n",
    "    for tl in ax1.get_yticklabels():\n",
    "        tl.set_color('b')\n",
    "\n",
    "    ax2 = ax1.twinx()\n",
    "    ax2.set_ylim([0, peq.q.max() * 2])\n",
    "    ax2.plot(peq.e, color='r', alpha=0.3, label='PET')\n",
    "    ax2.plot(peq.q, color='g', label='Discharge')\n",
    "    ax2.set_ylabel('Discharge (mm/day)', color='g')\n",
    "    for tl in ax2.get_yticklabels():\n",
    "        tl.set_color('g')\n",
    "\n",
    "    ax1.legend(loc='center left')\n",
    "    ax2.legend(loc='center right')\n",
    "    plt.show()"
   ]
  },
  {
   "cell_type": "code",
   "execution_count": null,
   "metadata": {
    "collapsed": false
   },
   "outputs": [],
   "source": [
    "peq_full = pd.read_pickle('peq.pkl')\n",
    "plot_peq(peq_full.loc['1985':'1987'])"
   ]
  },
  {
   "cell_type": "markdown",
   "metadata": {},
   "source": [
    "The code for the GR4J model (represented in the figure below) is provided here in pure Python, and Just-In-Time compiled using [Numba](http://numba.pydata.org/) for performance reasons."
   ]
  },
  {
   "cell_type": "code",
   "execution_count": null,
   "metadata": {
    "collapsed": false
   },
   "outputs": [],
   "source": [
    "Image(filename='gr4j.png') "
   ]
  },
  {
   "cell_type": "code",
   "execution_count": null,
   "metadata": {
    "collapsed": false
   },
   "outputs": [],
   "source": [
    "@jit\n",
    "def run_gr4j(x, p, e, q, s, uh1_array, uh2_array, l, m):\n",
    "    for t in range(p.size):\n",
    "        if p[t] > e[t]:\n",
    "            pn = p[t] - e[t]\n",
    "            en = 0.\n",
    "            tmp = s[0] / x[0]\n",
    "            ps = x[0] * (1. - tmp * tmp) * np.tanh(pn / x[0]) / (1. + tmp * np.tanh(pn / x[0]))\n",
    "            s[0] += ps\n",
    "        elif p[t] < e[t]:\n",
    "            ps = 0.\n",
    "            pn = 0.\n",
    "            en = e[t] - p[t]\n",
    "            tmp = s[0] / x[0]\n",
    "            es = s[0] * (2. - tmp) * np.tanh(en / x[0]) / (1. + (1. - tmp) * np.tanh(en / x[0]))\n",
    "            tmp = s[0] - es\n",
    "            if tmp > 0.:\n",
    "                s[0] = tmp\n",
    "            else:\n",
    "                s[0] = 0.\n",
    "        else:\n",
    "            pn = 0.\n",
    "            en = 0.\n",
    "            ps = 0.\n",
    "        tmp = (4. * s[0] / (9. * x[0]))\n",
    "        perc = s[0] * (1. - (1. + tmp * tmp * tmp * tmp) ** (-1. / 4.))\n",
    "        s[0] -= perc\n",
    "        pr_0 = perc + pn - ps\n",
    "        q9 = 0.\n",
    "        q1 = 0.\n",
    "        for i in range(m):\n",
    "            if i == 0:\n",
    "                pr_i = pr_0\n",
    "            else:\n",
    "                pr_i = s[2 + i - 1]\n",
    "            if i < l:\n",
    "                q9 += uh1_array[i] * pr_i;\n",
    "            q1 += uh2_array[i] * pr_i;\n",
    "        q9 *= 0.9\n",
    "        q1 *= 0.1\n",
    "        f = x[1] * ((s[1] / x[2]) ** (7. / 2.))\n",
    "        tmp = s[1] + q9 + f\n",
    "        if tmp > 0.:\n",
    "            s[1] = tmp\n",
    "        else:\n",
    "            s[1] = 0.\n",
    "        tmp = s[1] / x[2]\n",
    "        qr = s[1] * (1. - ((1. + tmp * tmp * tmp * tmp) ** (-1. / 4.)))\n",
    "        s[1] -= qr\n",
    "        tmp = q1 + f\n",
    "        if tmp > 0.:\n",
    "            qd = tmp\n",
    "        else:\n",
    "            qd = 0.\n",
    "        q[t] = qr + qd\n",
    "        if s.size > 2:\n",
    "            s[3:] = s[2:-1]\n",
    "            s[2] = pr_0\n",
    "\n",
    "class gr4j:\n",
    "    def sh1(self, t):\n",
    "        if t == 0:\n",
    "            res = 0.\n",
    "        elif t < self.x[3]:\n",
    "            res = (float(t) / self.x[3]) ** (5. / 2.)\n",
    "        else:\n",
    "            res = 1.\n",
    "        return res\n",
    "    def sh2(self, t):\n",
    "        if t == 0:\n",
    "            res = 0.\n",
    "        elif t < self.x[3]:\n",
    "            res = 0.5 * ((float(t) / self.x[3]) ** (5. / 2.))\n",
    "        elif t < 2. * self.x[3]:\n",
    "            res = 1. - 0.5 * ((2. - float(t) / self.x[3]) ** (5. / 2.))\n",
    "        else:\n",
    "            res = 1.\n",
    "        return res\n",
    "    def uh1(self, j):\n",
    "        return self.sh1(j) - self.sh1(j - 1)\n",
    "    def uh2(self, j):\n",
    "        return self.sh2(j) - self.sh2(j - 1)\n",
    "    def __init__(self, x):\n",
    "        self.x = np.array(x)\n",
    "        self.s = np.empty(2 + int(2. * self.x[3]))\n",
    "        self.s[0] = self.x[0] / 2.\n",
    "        self.s[1] = self.x[2] / 2.\n",
    "        self.s[2:] = 0.\n",
    "        self.l = int(self.x[3]) + 1\n",
    "        self.m = int(2. * self.x[3]) + 1\n",
    "        self.uh1_array = np.empty(self.l)\n",
    "        self.uh2_array = np.empty(self.m)\n",
    "        for i in range(self.m):\n",
    "            if i < self.l:\n",
    "                self.uh1_array[i] = self.uh1(i + 1)\n",
    "            self.uh2_array[i] = self.uh2(i + 1)\n",
    "    def run(self, pe):\n",
    "        q = np.empty_like(pe[0])\n",
    "        run_gr4j(self.x, pe[0], pe[1], q, self.s, self.uh1_array, self.uh2_array, self.l, self.m)\n",
    "        return [q]"
   ]
  },
  {
   "cell_type": "markdown",
   "metadata": {},
   "source": [
    "## Method"
   ]
  },
  {
   "cell_type": "markdown",
   "metadata": {},
   "source": [
    "We will start by fitting the model to the observed data with a brute-force calibration."
   ]
  },
  {
   "cell_type": "code",
   "execution_count": null,
   "metadata": {
    "collapsed": true
   },
   "outputs": [],
   "source": [
    "def calibration(x, in_obs, out_obs, warmup_period, crit_func, model, x_range, x_fix):\n",
    "    this_x = []\n",
    "    for i in range(len(x_range)):\n",
    "        if x_fix[i] is None:\n",
    "            if x[i] < x_range[i][0]:\n",
    "                return np.inf\n",
    "            if x[i] > x_range[i][1]:\n",
    "                return np.inf\n",
    "            this_x.append(x[i])\n",
    "        else:\n",
    "            this_x.append(x_fix[i])\n",
    "    data_nb = out_obs[0].size\n",
    "    q_mod = model(this_x)\n",
    "    out_sim = q_mod.run(in_obs)\n",
    "    error = crit_func(out_obs[0][warmup_period:], out_sim[0][warmup_period:])\n",
    "    return error"
   ]
  },
  {
   "cell_type": "code",
   "execution_count": null,
   "metadata": {
    "collapsed": true
   },
   "outputs": [],
   "source": [
    "def nse(x_obs, x_est):\n",
    "    return 1. - (np.sum(np.square(x_obs - x_est)) / np.sum(np.square(x_obs - np.mean(x_obs))))\n",
    "def nse_min(x_obs, x_est):\n",
    "    return 1. - nse(x_obs, x_est)"
   ]
  },
  {
   "cell_type": "code",
   "execution_count": null,
   "metadata": {
    "collapsed": false
   },
   "outputs": [],
   "source": [
    "peq = peq_full\n",
    "x_range = [[0., np.inf], [-np.inf, np.inf], [0., np.inf], [0., np.inf]]\n",
    "x_fix = [None, None, None, None]\n",
    "x0 = [100, 0, 100, 1]\n",
    "warmup_period = 365\n",
    "x = fmin(calibration, x0, args=([peq.p.values, peq.e.values], [peq.q.values], warmup_period, nse_min, gr4j, x_range, x_fix), xtol=0.01, ftol=0.01, disp=False)\n",
    "x4_real = x[3]\n",
    "q_mod = gr4j(x)\n",
    "peq['q_sim'] = q_mod.run([peq.p.values, peq.e.values])[0]\n",
    "ax = peq.loc['1985':'1987', ['q', 'q_sim']].plot(figsize=(15, 5))\n",
    "ax.set_ylabel('mm/day')\n",
    "print('X = ' + str(x))\n",
    "print('NSE = ' + str(nse(peq.q.values, peq.q_sim)))"
   ]
  },
  {
   "cell_type": "markdown",
   "metadata": {},
   "source": [
    "As can be seen from the [NSE](https://en.wikipedia.org/wiki/Nash%E2%80%93Sutcliffe_model_efficiency_coefficient) score (0.87) and the hydrographs in the figure above, the simulated streamflow fits the observed streamflow quite well. So from this model calibration, the inferred value is X4 = 3.5.\n",
    "\n",
    "Because X4 is the parameter that takes into account the lag time between precipitation and streamflow, it must be possible to measure it using only these two series. In fact, the cross-correlation does just that. We will limit the computation from a lag time of 0 (it is the precipitation which comes first, and then the streamflow, so a negative lag time has no meaning), to a lag time of several days (because we know the propagation of the precipitation by runoff into the streamflow at the outlet of the basin is a matter of days at most, depending on the size of the basin of course)."
   ]
  },
  {
   "cell_type": "code",
   "execution_count": null,
   "metadata": {
    "collapsed": true
   },
   "outputs": [],
   "source": [
    "@jit\n",
    "def correlate(p, q, width):\n",
    "    corr = np.zeros(width)\n",
    "    for i in range(width):\n",
    "        size = len(p) - i\n",
    "        for j in range(size):\n",
    "            corr[i] += p[j] * q[i + j]\n",
    "        corr[i] /= size\n",
    "    return corr"
   ]
  },
  {
   "cell_type": "code",
   "execution_count": null,
   "metadata": {
    "collapsed": false
   },
   "outputs": [],
   "source": [
    "peq = peq_full\n",
    "day_nb = 10\n",
    "corr = correlate(peq.p.values, peq.q.values, day_nb)"
   ]
  },
  {
   "cell_type": "code",
   "execution_count": null,
   "metadata": {
    "collapsed": false
   },
   "outputs": [],
   "source": [
    "df1 = DataFrame()\n",
    "df1['Lag time (days)'] = np.arange(day_nb)\n",
    "df1['Cross-correlation'] = corr\n",
    "df1 = df1.set_index('Lag time (days)')\n",
    "df1.plot(figsize=(15, 5))"
   ]
  },
  {
   "cell_type": "markdown",
   "metadata": {},
   "source": [
    "Note that the time step of the cross-correlation is the same as the one of the series which were used to compute it (here, one day), and we know that X4 can take real values (i.e. non-integer values). This problem appart, it seems that the lag time corresponding to the maximum value of the cross-correlation is linked to the value of X4. Without demonstrating it mathematically, we will show that adding 1 to this value leads to a good approximation of X4.\n",
    "\n",
    "In order to infer not only integer values of X4, which would be too gross of an approximation, we will use spline functions to interpolate the cross-correlation."
   ]
  },
  {
   "cell_type": "code",
   "execution_count": null,
   "metadata": {
    "collapsed": false
   },
   "outputs": [],
   "source": [
    "f = interp1d(df1.index, df1['Cross-correlation'], kind='cubic')\n",
    "df2 = DataFrame()\n",
    "precision = 0.1\n",
    "df2['Lag time (days)'] = np.arange(0, day_nb - 1, precision)\n",
    "df2['Interpolated cross-correlation'] = f(df2['Lag time (days)'])\n",
    "df2 = df2.set_index('Lag time (days)')\n",
    "\n",
    "ax = df1.plot(figsize=(15, 5))\n",
    "df2.plot(ax=ax, figsize=(15, 5))\n",
    "xmax = df2['Interpolated cross-correlation'].argmax()\n",
    "ymax = df2['Interpolated cross-correlation'].loc[xmax]\n",
    "ax.scatter(xmax, ymax, color='r', s=50)\n",
    "x4_inferred = xmax + 1\n",
    "ax.annotate('X4 inferred = ' + str(xmax) + ' + 1 = ' + str(x4_inferred) + '\\n(should be ' + str(round(x4_real, 1)) + ')', xy=(xmax, ymax), xytext=(10, 10), textcoords='offset points')\n",
    "plt.xticks(list(plt.xticks()[0]) + [xmax])\n",
    "ylim = ax.get_ylim()\n",
    "ax.plot([xmax, xmax], ylim)\n",
    "plt.ylim(ylim)\n",
    "plt.show()"
   ]
  },
  {
   "cell_type": "markdown",
   "metadata": {},
   "source": [
    "The inferred value of X4 using cross-correlation (3.8) is not so different than the one using brute-force calibration (3.5).\n",
    "\n",
    "In order to check if this approach works for various values of X4, we will use the GR4J model to generate a broad range of streamflows. We will use the same precipitation and potential evapotranspiration time series, pick some values at random for X4, but also for X1, X2 and X3, simulate a corresponding streamflow time series, and infer X4 using the cross-correlation between the precipitation and the simulated streamflow. This way, we can measure the difference between the inferred X4 value and the \"true\" X4 value."
   ]
  },
  {
   "cell_type": "code",
   "execution_count": null,
   "metadata": {
    "collapsed": false
   },
   "outputs": [],
   "source": [
    "peq = peq_full\n",
    "day_nb = 50\n",
    "results = {'x1': [], 'x2': [], 'x3': [], 'x4': [], 'x4_inferred': [], 'nse1': []}\n",
    "for i in tqdm(range(1000)):\n",
    "    x1 = random.uniform(100, 500)\n",
    "    x2 = random.uniform(-1, 1)\n",
    "    x3 = random.uniform(10, 100)\n",
    "    x4 = random.uniform(0.1, day_nb / 2)\n",
    "    q_mod = gr4j([x1, x2, x3, x4])\n",
    "    q_sim = q_mod.run([peq.p.values, peq.e.values])[0]\n",
    "    corr = correlate(peq.p.values, q_sim, day_nb)\n",
    "    f = interp1d(np.arange(day_nb), corr, kind='cubic')\n",
    "    corr = f(np.arange(0, day_nb - 1, precision))\n",
    "    x4_inferred = corr.argmax() * precision + 1\n",
    "    q_mod_inferred = gr4j([x1, x2, x3, x4_inferred])\n",
    "    q_sim_inferred = q_mod_inferred.run([peq.p.values, peq.e.values])[0]\n",
    "    results['x1'].append(x1)\n",
    "    results['x2'].append(x2)\n",
    "    results['x3'].append(x3)\n",
    "    results['x4'].append(x4)\n",
    "    results['x4_inferred'].append(x4_inferred)\n",
    "    results['nse1'].append(nse(q_sim[warmup_period:], q_sim_inferred[warmup_period:]))\n",
    "results= DataFrame(results)"
   ]
  },
  {
   "cell_type": "code",
   "execution_count": null,
   "metadata": {
    "collapsed": false
   },
   "outputs": [],
   "source": [
    "plt.close('all')\n",
    "plt.figure(figsize=(10, 10))\n",
    "plt.plot([0.1, day_nb / 2], [0.1, day_nb / 2], label='y = x')\n",
    "plt.scatter(results['x4'], results['x4_inferred'], s=5, color='r', label='X4 inferred vs simulated')\n",
    "plt.xlim(0, day_nb / 2)\n",
    "plt.ylim(0, day_nb / 2)\n",
    "plt.xlabel('X4 simulated')\n",
    "plt.ylabel('X4 inferred')\n",
    "plt.legend(loc='upper left')\n",
    "plt.show()"
   ]
  },
  {
   "cell_type": "markdown",
   "metadata": {},
   "source": [
    "The figure above shows that there is a good match between the inferred value of X4 and the true value. There is, however, a problem for X4 < 1. The inferred value is always X4 = 1 in this case. This is because with a time step of one day, there is no way to say when the streamflow peak resulting from a precipitation event on a given day will appear within that day. We can just say that it will happen the same day. But does it even matter? To see if it does, we will compute the NSE of the simulated streamflow using the model where X4 was inferred, compared to the simulated streamflow using the reference model (the one with the true X4)."
   ]
  },
  {
   "cell_type": "code",
   "execution_count": null,
   "metadata": {
    "collapsed": false
   },
   "outputs": [],
   "source": [
    "plt.close('all')\n",
    "plt.figure(figsize=(15, 5))\n",
    "nse_vs_x4 = results.loc[results['x4'] <= 25].set_index(['x4']).sort_index()\n",
    "plt.plot([1, 1], [-2, 2], '--', color='gray')\n",
    "plt.plot(nse_vs_x4.index, nse_vs_x4['nse1'], color='b')\n",
    "plt.ylim(-0.1, 1.1)\n",
    "plt.xlabel('X4')\n",
    "plt.ylabel('NSE')\n",
    "plt.xticks(list(plt.xticks()[0]) + [1])\n",
    "plt.title('Performances of the model using the inferred X4 value as a function of the true X4 value')\n",
    "plt.show()"
   ]
  },
  {
   "cell_type": "markdown",
   "metadata": {},
   "source": [
    "As we can see, there is actually no problem: the model is not sensitive to a value of X4 < 1. It is the same as X4 = 1 (NSE = 1). There is however a performance degradation for X4 ~ 1 (and X4 >= 1). This is where the errors in the inferred value of X4 are relatively bigger, compared to the absolute value of X4. But this is still acceptable (NSE ~ 0.85). Note that we are comparing the inferred valude of X4 to its \"true\" value, which is a purely theoretical situation that will never happen in real life. With a measured (and not simulated) streamflow, the value of X4 obtained with brute-force calibration would not be \"more true\" than the one obtained with the cross-correlation.\n",
    "\n",
    "Still, it is interesting to see if the model can compensate the errors in X4 with its other parameters. We didn't let the choice to GR4J with the values of X1, X2 and X3. Let us now calibrate them, fixing X4 to the value inferred by cross-correlation."
   ]
  },
  {
   "cell_type": "code",
   "execution_count": null,
   "metadata": {
    "collapsed": false
   },
   "outputs": [],
   "source": [
    "peq = peq_full\n",
    "day_nb = 50\n",
    "for i in tqdm(range(len(results))):\n",
    "    x1 = results.loc[i, 'x1']\n",
    "    x2 = results.loc[i, 'x2']\n",
    "    x3 = results.loc[i, 'x3']\n",
    "    x4 = results.loc[i, 'x4']\n",
    "    q_mod = gr4j([x1, x2, x3, x4])\n",
    "    q_sim = q_mod.run([peq.p.values, peq.e.values])[0]\n",
    "    x4_inferred = results.loc[i, 'x4_inferred']\n",
    "    x_range = [[1., np.inf], [-np.inf, np.inf], [0.1, np.inf], [0.1, np.inf]]\n",
    "    x_fix = [None, None, None, x4_inferred]\n",
    "    x0 = [100, 0, 100]\n",
    "    x_inferred = fmin(calibration, x0, args=([peq.p.values, peq.e.values], [q_sim], warmup_period, nse_min, gr4j, x_range, x_fix), xtol=0.01, ftol=0.01, disp=False)\n",
    "    q_mod_inferred = gr4j(list(x_inferred) + [x4_inferred])\n",
    "    q_sim_inferred = q_mod_inferred.run([peq.p.values, peq.e.values])[0]\n",
    "    results.loc[i, 'x1_inferred'] = x_inferred[0]\n",
    "    results.loc[i, 'x2_inferred'] = x_inferred[1]\n",
    "    results.loc[i, 'x3_inferred'] = x_inferred[2]\n",
    "    results.loc[i, 'nse2'] = nse(q_sim[warmup_period:], q_sim_inferred[warmup_period:])"
   ]
  },
  {
   "cell_type": "code",
   "execution_count": null,
   "metadata": {
    "collapsed": false
   },
   "outputs": [],
   "source": [
    "plt.close('all')\n",
    "plt.figure(figsize=(15, 5))\n",
    "nse_vs_x4 = results.loc[results['x4'] <= 25].set_index(['x4']).sort_index()\n",
    "plt.plot([1, 1], [-1, 2], '--', color='gray')\n",
    "plt.plot(nse_vs_x4.index, nse_vs_x4['nse1'], color='b', label='without optimization of X1, X2, X3', alpha=0.5)\n",
    "plt.plot(nse_vs_x4.index, nse_vs_x4['nse2'], color='r', label='with optimization of X1, X2, X3')\n",
    "plt.plot(nse_vs_x4.index, nse_vs_x4['nse2'] - nse_vs_x4['nse1'], color='g', label='NSE gain with optimization of X1, X2, X3')\n",
    "plt.ylim(-0.1, 1.1)\n",
    "plt.xlabel('X4')\n",
    "plt.ylabel('NSE')\n",
    "plt.xticks(list(plt.xticks()[0]) + [1])\n",
    "plt.title('Performances of the model using inferred X4 as a function of true X4')\n",
    "plt.legend(loc='center right')\n",
    "plt.show()"
   ]
  },
  {
   "cell_type": "markdown",
   "metadata": {
    "collapsed": true
   },
   "source": [
    "We can see that there is not much gain, which is reassuring in a way: it means that in the GR4J parameter space, X4 is orthogonal to the other parameters, and thus, useful and needed."
   ]
  },
  {
   "cell_type": "markdown",
   "metadata": {},
   "source": [
    "## Conclusion"
   ]
  },
  {
   "cell_type": "markdown",
   "metadata": {},
   "source": [
    "In this notebook, I showed that it is not necessary to infer all the parameters of the GR4J model using brute-force calibration. In particular, X4 can be inferred using the cross-correlation between the precipitation and the streamflow time series. This leads to an easier calibration of the other parameters, because one dimension can be removed from the parameter space.\n",
    "\n",
    "According to the GR4J model conceptor, Claude Michel, who didn't want to give a physical meaning to its parameters (and this is the reason why he called them X), we should not try to interpret the concepts behind the model and make them match the reality. But this is exactly what we have done here: X4 is definitely linked to the speed at which the rainfall runs off to the outlet of the basin. And I cannot imagine it could be otherwise, even for the other parameters. To me, with such a small number of parameters, it is not possible that a conceptual model simulates so well the streamflows we measure on the ground. Its concepts must also mimic the physical processes."
   ]
  }
 ],
 "metadata": {
  "kernelspec": {
   "display_name": "Python 3",
   "language": "python",
   "name": "python3"
  },
  "language_info": {
   "codemirror_mode": {
    "name": "ipython",
    "version": 3
   },
   "file_extension": ".py",
   "mimetype": "text/x-python",
   "name": "python",
   "nbconvert_exporter": "python",
   "pygments_lexer": "ipython3",
   "version": "3.4.5"
  }
 },
 "nbformat": 4,
 "nbformat_minor": 0
}
